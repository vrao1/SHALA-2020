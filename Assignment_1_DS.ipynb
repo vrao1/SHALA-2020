{
  "nbformat": 4,
  "nbformat_minor": 0,
  "metadata": {
    "colab": {
      "name": "Assignment -1 - DS.ipynb",
      "provenance": [],
      "collapsed_sections": [],
      "include_colab_link": true
    },
    "kernelspec": {
      "name": "python3",
      "display_name": "Python 3"
    }
  },
  "cells": [
    {
      "cell_type": "markdown",
      "metadata": {
        "id": "view-in-github",
        "colab_type": "text"
      },
      "source": [
        "<a href=\"https://colab.research.google.com/github/vrao1/SHALA-2020/blob/master/Assignment_1_DS.ipynb\" target=\"_parent\"><img src=\"https://colab.research.google.com/assets/colab-badge.svg\" alt=\"Open In Colab\"/></a>"
      ]
    },
    {
      "cell_type": "markdown",
      "metadata": {
        "id": "hmr2U-GChnlR",
        "colab_type": "text"
      },
      "source": [
        "\n",
        "# **Assignment - 1 : Getting Started**\n",
        "\n",
        "---\n",
        "\n",
        "This assignment will get you familiarized with python libraries required for ***data science*** and ***machine learning***. You will have to complete the code snippets and run them. "
      ]
    },
    {
      "cell_type": "markdown",
      "metadata": {
        "id": "211pD45xEO0u",
        "colab_type": "text"
      },
      "source": [
        "## **Note :**   Use only the methods and attributes of the ```numpy``` library. **Do not** hard-code them. Avoid loops as much as possible."
      ]
    },
    {
      "cell_type": "markdown",
      "metadata": {
        "id": "O7v9C4mun3SQ",
        "colab_type": "text"
      },
      "source": [
        "---\n",
        "## Part - 1\n",
        " In this part, you will work with the library ```numpy```. \n",
        "\n",
        "\n"
      ]
    },
    {
      "cell_type": "markdown",
      "metadata": {
        "id": "846yDaXQwiMD",
        "colab_type": "text"
      },
      "source": [
        "Import ```numpy``` with an alias name ```np```. Initialize two arrays $a$, $b$ of size $3 \\times 5$ with random values and print them. "
      ]
    },
    {
      "cell_type": "code",
      "metadata": {
        "id": "a2lJdRf8x9f2",
        "colab_type": "code",
        "colab": {
          "base_uri": "https://localhost:8080/",
          "height": 119
        },
        "outputId": "9544a37f-d429-4b98-f245-109acfb1e312"
      },
      "source": [
        "import numpy as np\n",
        "a = np.random.randint(100, size=(3,5))\n",
        "b = np.random.randint(100, size=(3,5))\n",
        "print(a)\n",
        "\n",
        "print(b)"
      ],
      "execution_count": 2,
      "outputs": [
        {
          "output_type": "stream",
          "text": [
            "[[26 94 93  7 28]\n",
            " [65 49 82 41 63]\n",
            " [35 66 63 87 44]]\n",
            "[[79 86  0 82 41]\n",
            " [58  9  0 48 96]\n",
            " [41 76 84 52 98]]\n"
          ],
          "name": "stdout"
        }
      ]
    },
    {
      "cell_type": "markdown",
      "metadata": {
        "id": "p7jtpYT4wiO6",
        "colab_type": "text"
      },
      "source": [
        "Initialize and print two arrays $c$ and $d$ having the following properties:\n",
        "*   $c$ is a row vector with all non-negative integer values less than 100\n",
        "* $d$ is a square matrix of size 3 having all entries as 0.0"
      ]
    },
    {
      "cell_type": "code",
      "metadata": {
        "id": "_MyeCO3_o3oq",
        "colab_type": "code",
        "colab": {
          "base_uri": "https://localhost:8080/",
          "height": 153
        },
        "outputId": "52003b40-8568-4215-b135-cef4f56fd1f8"
      },
      "source": [
        "c = np.random.randint(100, size=(100))\n",
        "\n",
        "print(c)\n",
        "\n",
        "d = np.zeros((3,3))\n",
        "\n",
        "print(d)"
      ],
      "execution_count": 3,
      "outputs": [
        {
          "output_type": "stream",
          "text": [
            "[51  6  4 86 48 75 79 76 42  2 74 25 39  8  5 48 47  9 63  6 54  9 38  5\n",
            " 90 75 94 29 39  7  5 18 81 57 26  7 33 30 60 49 19 47 87 29 62 72 22 78\n",
            " 49 52 32 37 51 59 54 20 16 49 83 34 17 16 47 72 50 32 97 72 69 30 56 14\n",
            " 45 81 26 76 90  4 99 32 58 71 73 77 60 15 14 93 22 23 45 87 98 42 23 77\n",
            " 56 80 12 93]\n",
            "[[0. 0. 0.]\n",
            " [0. 0. 0.]\n",
            " [0. 0. 0.]]\n"
          ],
          "name": "stdout"
        }
      ]
    },
    {
      "cell_type": "markdown",
      "metadata": {
        "id": "qqgtSsa88Zmh",
        "colab_type": "text"
      },
      "source": [
        "We have $e$ as following : ```e = [[1,2,3],[4,5,6],[7,8,9]]```. Change $e$ as a numpy array and print it."
      ]
    },
    {
      "cell_type": "code",
      "metadata": {
        "id": "Krhm4bVE7RET",
        "colab_type": "code",
        "colab": {
          "base_uri": "https://localhost:8080/",
          "height": 68
        },
        "outputId": "f342dd6b-c10e-4583-ea49-162a76da92bb"
      },
      "source": [
        "e = [[1,2,3],[4,5,6],[7,8,9]]\n",
        "f = np.array(e)\n",
        "print(f)"
      ],
      "execution_count": 4,
      "outputs": [
        {
          "output_type": "stream",
          "text": [
            "[[1 2 3]\n",
            " [4 5 6]\n",
            " [7 8 9]]\n"
          ],
          "name": "stdout"
        }
      ]
    },
    {
      "cell_type": "markdown",
      "metadata": {
        "id": "1qTikI0foam9",
        "colab_type": "text"
      },
      "source": [
        "$f$ and $g$ are two square matrices of size 5 such that all the entries of $f$ are 1 and $g$ is an identity matrix. Initialize them and print them"
      ]
    },
    {
      "cell_type": "code",
      "metadata": {
        "id": "DvaLckI49aBV",
        "colab_type": "code",
        "colab": {
          "base_uri": "https://localhost:8080/",
          "height": 187
        },
        "outputId": "487f44be-cc8f-4f78-bac8-12823ea4ccce"
      },
      "source": [
        "f = np.ones((5,5), dtype=int)\n",
        "g = np.identity(5, dtype=int)\n",
        "print(f)\n",
        "\n",
        "print(g)"
      ],
      "execution_count": 5,
      "outputs": [
        {
          "output_type": "stream",
          "text": [
            "[[1 1 1 1 1]\n",
            " [1 1 1 1 1]\n",
            " [1 1 1 1 1]\n",
            " [1 1 1 1 1]\n",
            " [1 1 1 1 1]]\n",
            "[[1 0 0 0 0]\n",
            " [0 1 0 0 0]\n",
            " [0 0 1 0 0]\n",
            " [0 0 0 1 0]\n",
            " [0 0 0 0 1]]\n"
          ],
          "name": "stdout"
        }
      ]
    },
    {
      "cell_type": "markdown",
      "metadata": {
        "id": "gcBZAZibAKcg",
        "colab_type": "text"
      },
      "source": [
        "Reshape $c$ into a $10 \\times 10$ matrix and name it $h$. Now flatten $h$, call it $c^\\prime$ and print **YES** when the shapes of $c$ and $c^\\prime$ are same. Otherwise print **NO**."
      ]
    },
    {
      "cell_type": "code",
      "metadata": {
        "id": "I71vtO9bA9Pi",
        "colab_type": "code",
        "colab": {
          "base_uri": "https://localhost:8080/",
          "height": 204
        },
        "outputId": "5ade11af-d3b1-47e4-a622-71fec297134e"
      },
      "source": [
        "h = c.reshape((10,10))\n",
        "\n",
        "print(h)\n",
        "\n",
        "c_prime = h.flatten()\n",
        "\n",
        "if c.shape == c_prime.shape:\n",
        "  print(\"YES\")\n",
        "else:\n",
        "  print(\"NO\")"
      ],
      "execution_count": 6,
      "outputs": [
        {
          "output_type": "stream",
          "text": [
            "[[51  6  4 86 48 75 79 76 42  2]\n",
            " [74 25 39  8  5 48 47  9 63  6]\n",
            " [54  9 38  5 90 75 94 29 39  7]\n",
            " [ 5 18 81 57 26  7 33 30 60 49]\n",
            " [19 47 87 29 62 72 22 78 49 52]\n",
            " [32 37 51 59 54 20 16 49 83 34]\n",
            " [17 16 47 72 50 32 97 72 69 30]\n",
            " [56 14 45 81 26 76 90  4 99 32]\n",
            " [58 71 73 77 60 15 14 93 22 23]\n",
            " [45 87 98 42 23 77 56 80 12 93]]\n",
            "YES\n"
          ],
          "name": "stdout"
        }
      ]
    },
    {
      "cell_type": "markdown",
      "metadata": {
        "id": "8FrecDPiA-Bv",
        "colab_type": "text"
      },
      "source": [
        "Let $A$ denote a randomly initialized three dimensional matrix of shape (2,10,5). Transpose $A$, call it $A^\\prime$, such that its shape is (5,2,10) and print it."
      ]
    },
    {
      "cell_type": "code",
      "metadata": {
        "id": "VbOKqSm6Bkaq",
        "colab_type": "code",
        "colab": {
          "base_uri": "https://localhost:8080/",
          "height": 714
        },
        "outputId": "d8913535-c71a-494c-f247-eabccee05e93"
      },
      "source": [
        "A = np.random.rand(2,10,5)\n",
        "print(A)\n",
        "\n",
        "#A_prime = \n",
        "#print(np.transpose(A, (5,2,10)))\n",
        "\n",
        "#print(A_prime)"
      ],
      "execution_count": 7,
      "outputs": [
        {
          "output_type": "stream",
          "text": [
            "[[[4.11211899e-02 2.01983142e-02 7.69510751e-01 7.03691817e-01\n",
            "   3.37216418e-01]\n",
            "  [1.33529777e-01 9.68834075e-01 1.69318712e-01 9.75977900e-02\n",
            "   4.87166767e-02]\n",
            "  [6.78970488e-01 3.42825894e-01 5.31379702e-01 1.20691961e-01\n",
            "   6.83742402e-01]\n",
            "  [7.72134542e-01 3.71750054e-01 1.07567297e-01 6.77907568e-01\n",
            "   4.80304485e-01]\n",
            "  [1.16555355e-01 4.82914914e-03 1.42104803e-02 4.87348112e-01\n",
            "   5.09509068e-01]\n",
            "  [8.75934850e-01 5.09968083e-01 4.00603031e-01 1.41716863e-01\n",
            "   3.68412962e-01]\n",
            "  [3.22510046e-01 6.33232438e-01 2.43247190e-01 4.89166697e-01\n",
            "   7.96620492e-01]\n",
            "  [4.03883612e-02 9.45253530e-01 3.73177838e-01 3.29699273e-01\n",
            "   1.45441661e-01]\n",
            "  [3.17607450e-01 3.69128382e-01 5.53563513e-01 8.71702555e-01\n",
            "   2.20002398e-01]\n",
            "  [5.12295566e-01 5.11643084e-01 9.12137171e-01 5.66457477e-01\n",
            "   9.85243269e-01]]\n",
            "\n",
            " [[8.26228200e-01 3.11643043e-01 3.25192119e-04 4.86528344e-02\n",
            "   6.58995410e-01]\n",
            "  [7.71726235e-01 2.02037769e-01 9.59564063e-01 2.07599672e-01\n",
            "   4.35729475e-01]\n",
            "  [2.37684290e-01 1.97546237e-01 7.19979156e-01 4.06432577e-01\n",
            "   8.46486164e-02]\n",
            "  [3.08819973e-01 6.95298094e-01 9.10609159e-01 6.80181668e-01\n",
            "   4.04179333e-01]\n",
            "  [2.56055338e-01 8.81642979e-02 4.84949468e-01 9.47260602e-01\n",
            "   4.31112305e-01]\n",
            "  [3.73598212e-01 6.11221774e-01 9.46914555e-01 6.46996725e-01\n",
            "   4.06953253e-01]\n",
            "  [3.50126975e-01 4.12274120e-01 5.55173349e-01 4.94912770e-01\n",
            "   5.91730112e-01]\n",
            "  [8.11656913e-01 6.23319504e-02 6.76228747e-01 5.66813524e-01\n",
            "   2.50045382e-01]\n",
            "  [1.46123921e-01 2.47443755e-01 2.88113068e-01 1.31244344e-02\n",
            "   4.71602341e-01]\n",
            "  [3.93573103e-01 3.24571802e-01 6.95410706e-01 4.39575230e-01\n",
            "   3.24210519e-02]]]\n"
          ],
          "name": "stdout"
        }
      ]
    },
    {
      "cell_type": "markdown",
      "metadata": {
        "id": "xR2zd-nkCani",
        "colab_type": "text"
      },
      "source": [
        "You have a matrix $X$ of size (10,5) filled with random values. Print the following :\n",
        "* Minimum value and index where it occured, for each column\n",
        "* Maximum value and the index where it occured, for each column\n",
        "* Minimum value and index where it occured, for each row\n",
        "* Maximum value and index where it occured, for each row\n",
        "* Minimum value and index where it occured, for the entire matrix\n",
        "* Maximum value and index where it occured, for the entire matrix"
      ]
    },
    {
      "cell_type": "code",
      "metadata": {
        "id": "FR2Wd4fWD_Og",
        "colab_type": "code",
        "colab": {
          "base_uri": "https://localhost:8080/",
          "height": 255
        },
        "outputId": "349ee095-d3fb-4c7d-cfff-11aa4d1bf286"
      },
      "source": [
        "np.random.seed(0)\n",
        "X = np.random.rand(10,5)\n",
        "mi_index = np.argmin(X, axis=0)\n",
        "print(mi_index)\n",
        "\n",
        "mi = np.min(X, axis=0)\n",
        "print(mi)\n",
        "\n",
        "ma_index = np.argmax(X, axis=0)\n",
        "print(ma_index)\n",
        "\n",
        "ma = np.max(X, axis=0)\n",
        "print(ma)\n",
        "\n",
        "mi_r_index = np.argmin(X, axis=1)\n",
        "print(mi_r_index)\n",
        "\n",
        "mi_r = np.min(X, axis=1)\n",
        "print(mi_r)\n",
        "\n",
        "ma_r_index = np.argmax(X, axis=1)\n",
        "print(ma_r_index)\n",
        "\n",
        "ma_r = np.max(X, axis=1)\n",
        "print(ma_r)\n",
        "\n",
        "mi_all_index = np.argmin(X)\n",
        "print(int(mi_all_index/5), int(mi_all_index/10))\n",
        "\n",
        "mi_all = np.min(X)\n",
        "print(mi_all)\n",
        "\n",
        "ma_all_index = np.argmax(X)\n",
        "\n",
        "print(int(ma_all_index/5), int(ma_all_index/10))\n",
        "\n",
        "ma_all = np.max(X)\n",
        "print(ma_all)"
      ],
      "execution_count": 11,
      "outputs": [
        {
          "output_type": "stream",
          "text": [
            "[3 3 9 8 6]\n",
            "[0.0871293  0.0202184  0.1289263  0.06022547 0.0187898 ]\n",
            "[4 4 5 1 3]\n",
            "[0.97861834 0.79915856 0.94466892 0.96366276 0.87001215]\n",
            "[4 4 4 1 4 1 4 1 3 2]\n",
            "[0.4236548  0.38344152 0.07103606 0.0202184  0.11827443 0.14335329\n",
            " 0.0187898  0.61209572 0.06022547 0.1289263 ]\n",
            "[1 3 3 4 0 2 1 3 2 0]\n",
            "[0.71518937 0.96366276 0.92559664 0.87001215 0.97861834 0.94466892\n",
            " 0.77423369 0.94374808 0.6976312  0.67063787]\n",
            "6 3\n",
            "0.018789800436355142\n",
            "4 2\n",
            "0.978618342232764\n"
          ],
          "name": "stdout"
        }
      ]
    },
    {
      "cell_type": "markdown",
      "metadata": {
        "id": "YpjW2ypkEGtS",
        "colab_type": "text"
      },
      "source": [
        "Find and print the following for the matrix X: \n",
        "* Mean of each row and column\n",
        "* Standard deviation of each row and column\n",
        "* Mean of the entire matrix\n",
        "* Standard deviation of entire matrix"
      ]
    },
    {
      "cell_type": "code",
      "metadata": {
        "id": "gMdm2pw0GWjf",
        "colab_type": "code",
        "colab": {
          "base_uri": "https://localhost:8080/",
          "height": 153
        },
        "outputId": "10ff4202-d232-4cf7-a456-704044fbf31b"
      },
      "source": [
        "\n",
        "column_mean = np.mean(X, axis=0)\n",
        "row_mean = np.mean(X, axis=1)\n",
        "\n",
        "column_stdev = np.std(X, axis=0)\n",
        "row_stdev = np.std(X, axis=1)\n",
        "\n",
        "mean = np.mean(X)\n",
        "stdev = np.std(X)\n",
        "\n",
        "print(column_mean)\n",
        "print(row_mean)\n",
        "\n",
        "print(column_stdev)\n",
        "print(row_stdev)\n",
        "\n",
        "print(mean)\n",
        "print(stdev)"
      ],
      "execution_count": 12,
      "outputs": [
        {
          "output_type": "stream",
          "text": [
            "[0.56044382 0.46781457 0.62009909 0.64025127 0.40121685]\n",
            "[0.56706085 0.66447172 0.57705944 0.51762729 0.62761197 0.5328907\n",
            " 0.41643268 0.69444672 0.44423265 0.33781717]\n",
            "[0.24687647 0.25752158 0.22948615 0.28054144 0.26584905]\n",
            "[0.09445299 0.23322986 0.29189733 0.38052993 0.30431633 0.26338419\n",
            " 0.25841437 0.12727959 0.23169975 0.18537332]\n",
            "0.5379651182755409\n",
            "0.27226582292177587\n"
          ],
          "name": "stdout"
        }
      ]
    },
    {
      "cell_type": "markdown",
      "metadata": {
        "id": "7dw7W8HOGXKA",
        "colab_type": "text"
      },
      "source": [
        "Let $Y$ denote a square matrix of size 10 with random values. Print the following:\n",
        "* Determinant\n",
        "* Rank of the matrix\n",
        "* Diagonal Elements\n",
        "* Trace\n",
        "* Eigen values\n",
        "* Matrices obtained after Singular Value Decomposition\n",
        "* Inverse if exists, otherwise Pseudo-Inverse\n",
        "* Multiplication $Y$ with $X$\n",
        "* Element-wise multiplication of $Y$ and its inverse(or pseudo-inverse)"
      ]
    },
    {
      "cell_type": "code",
      "metadata": {
        "id": "Tswbn9hgL7yi",
        "colab_type": "code",
        "colab": {
          "base_uri": "https://localhost:8080/",
          "height": 1000
        },
        "outputId": "deca386b-a8eb-4d94-ad2b-14e864965db8"
      },
      "source": [
        "import numpy as np\n",
        "np.random.seed(3)\n",
        "Y = np.random.rand(10, 10)\n",
        "\n",
        "determinant = np.linalg.det(Y)\n",
        "print(\"Determinant : \", determinant)\n",
        "\n",
        "rank = np.linalg.matrix_rank(Y)\n",
        "print(\"Rank : \", rank)\n",
        "\n",
        "diag = Y.diagonal()\n",
        "print(\"Diagonal : \", diag)\n",
        "\n",
        "trace = np.matrix.trace(Y)\n",
        "print(\"Trace : \", trace)\n",
        "\n",
        "eig = np.linalg.eigvals(Y)\n",
        "print(\"Eiegenvalues : \", eig)\n",
        "\n",
        "u, s, vh = np.linalg.svd(Y, full_matrices=True)\n",
        "print(\" u = \",u)\n",
        "print(\"s = \", s)\n",
        "print(\"vh = \", vh)\n",
        "\n",
        "inv_mat = np.ones(Y.shape)\n",
        "if determinant != 0:\n",
        "  inv_mat= np.linalg.inv(Y)\n",
        "  print(inv_mat)\n",
        "else:\n",
        "  print(\"Inverse doesn't exist\")\n",
        "\n",
        "Y_cross_X = np.matmul(Y, X)\n",
        "print(Y_cross_X)\n",
        "\n",
        "element_wise_mul = np.multiply(Y, inv_mat)\n",
        "print(element_wise_mul)"
      ],
      "execution_count": 21,
      "outputs": [
        {
          "output_type": "stream",
          "text": [
            "Determinant :  -0.012807808169095483\n",
            "Rank :  10\n",
            "Diagonal :  [0.5507979  0.45683322 0.44045372 0.84575087 0.4576864  0.36217621\n",
            " 0.06152893 0.19897603 0.92672568 0.19638058]\n",
            "Trace :  4.497309545724899\n",
            "Eiegenvalues :  [ 4.797525  +0.j          0.72411408+0.52238181j  0.72411408-0.52238181j\n",
            " -0.48250062+0.55413671j -0.48250062-0.55413671j -0.6909002 +0.j\n",
            " -0.25905659+0.32357377j -0.25905659-0.32357377j  0.2127855 +0.08352477j\n",
            "  0.2127855 -0.08352477j]\n",
            " u =  [[-0.31776408 -0.02455508 -0.60644878 -0.17883359 -0.12672161  0.14873878\n",
            "  -0.17823942 -0.52859453 -0.02295855 -0.38570883]\n",
            " [-0.26118514 -0.10864541 -0.24911354  0.26547359  0.52168399 -0.25773901\n",
            "  -0.46995326  0.21752636 -0.39285046  0.16234491]\n",
            " [-0.31347907 -0.34483471 -0.25292297  0.1214296   0.1486964   0.33436315\n",
            "   0.54080229  0.48017168  0.05660692 -0.20966421]\n",
            " [-0.35815379  0.59490017  0.30255161  0.15850614 -0.11046295  0.3051409\n",
            "   0.07395537  0.03044889 -0.50561658 -0.18384856]\n",
            " [-0.28385845 -0.18085696 -0.1583078   0.10535533 -0.46807835 -0.08377643\n",
            "   0.24075452 -0.16170764 -0.24786952  0.69201648]\n",
            " [-0.28871348 -0.27577124  0.40271105  0.60433658  0.11931679 -0.04899205\n",
            "   0.02593316 -0.44875145  0.27874747 -0.12964796]\n",
            " [-0.27897316  0.00398904  0.20819753 -0.52536617  0.41116881 -0.41991923\n",
            "   0.42687225 -0.24145621 -0.12958507 -0.00984813]\n",
            " [-0.24788529  0.48136836 -0.15792433 -0.02303902  0.3246308   0.25755952\n",
            "  -0.01429533 -0.03088365  0.56052488  0.44079262]\n",
            " [-0.37505167 -0.36728578  0.39799373 -0.45186801 -0.10830044  0.34456765\n",
            "  -0.4447402   0.14147957  0.0716725   0.09192695]\n",
            " [-0.40049601  0.19846099 -0.02705464  0.02500837 -0.39745062 -0.57941613\n",
            "  -0.10288216  0.3673956   0.33321483 -0.22039139]]\n",
            "s =  [4.89636645 1.42832104 1.17173389 0.94068764 0.76892251 0.62457278\n",
            " 0.52105948 0.28969576 0.24512275 0.09350223]\n",
            "vh =  [[-0.28816735 -0.35560525 -0.33294235 -0.33250662 -0.36658188 -0.3625847\n",
            "  -0.26573249 -0.23278667 -0.30457183 -0.29270444]\n",
            " [ 0.53693497  0.11306854  0.39562078  0.25099719 -0.07369559 -0.37753546\n",
            "  -0.08584363  0.00333609 -0.2399022  -0.51623983]\n",
            " [-0.084609   -0.22589744 -0.00306935  0.1954239  -0.327784   -0.49318928\n",
            "   0.42323124  0.18588504  0.58200169  0.02301787]\n",
            " [ 0.01388163 -0.2631197   0.42190391 -0.53612946  0.01058633 -0.04415909\n",
            "   0.29385139  0.49501812 -0.32731018  0.15669071]\n",
            " [-0.27340804  0.28220631  0.28945859 -0.1626885   0.14790418 -0.35915036\n",
            "  -0.64971879  0.23854611  0.29589227  0.1337842 ]\n",
            " [ 0.10830593  0.27974551 -0.20571161  0.10308827  0.10096026 -0.5325142\n",
            "   0.15994871 -0.16150892 -0.3941055   0.59692177]\n",
            " [ 0.44882085  0.34972045 -0.01773924 -0.50737391 -0.52251393  0.11970007\n",
            "  -0.02807841 -0.20137782  0.25705553  0.15409283]\n",
            " [-0.35599817 -0.05022624  0.63427946  0.20935183 -0.34847081  0.11510691\n",
            "   0.03182222 -0.47748403 -0.1161671   0.21777064]\n",
            " [ 0.18417681 -0.32168889  0.15954963 -0.32397524  0.5548368  -0.1807982\n",
            "   0.08626619 -0.55063636  0.28439362 -0.01119242]\n",
            " [-0.41560913  0.59522266  0.02089304 -0.23979844  0.13515565 -0.0893732\n",
            "   0.44674689 -0.10709455 -0.02239562 -0.42098815]]\n",
            "[[ 2.31470983 -1.92264991  0.7642126   0.78096977 -2.74248585  1.20175092\n",
            "   0.38693174 -1.37664514 -0.96484143  0.83123246]\n",
            " [-2.24504111  1.25605742 -0.91466223 -0.39587642  4.71823627 -1.32162185\n",
            "   0.52594984  2.39368168  0.33051878 -2.33540101]\n",
            " [-1.41290916  0.66149939  0.94968095 -0.18869248 -0.50069581 -0.55664939\n",
            "  -0.55275157  0.57384943 -0.04209635  1.11025544]\n",
            " [ 0.88051129  0.37055438  0.15632501  1.25248223 -1.81219563 -0.7249179\n",
            "  -0.19613524 -1.81766381  0.56943994  0.52226388]\n",
            " [ 0.39743656 -0.28842728 -1.09880632 -1.57965965  0.36480771  0.90235521\n",
            "  -0.47743451  2.09911148  0.53638288 -0.04562024]\n",
            " [ 0.36068175  0.22958502  0.33426258  0.10367281 -0.06700744 -0.37158555\n",
            "   0.22972702 -1.26286862 -0.45133033  0.75430018]\n",
            " [-2.01045364  0.19347423 -1.01393804 -0.74303568  3.56449935 -0.31892146\n",
            "  -0.67116163  2.01265699  0.72873355 -0.69454601]\n",
            " [ 1.18043988  0.86047396 -0.88991494  1.30425635 -0.14247318  0.69661973\n",
            "   0.5413572  -1.69774697 -0.60797727 -1.00698216]\n",
            " [-0.1679456  -0.63197036 -0.0540802  -0.73587818 -0.46423184  0.67805628\n",
            "   0.88551393  0.37662528 -0.03416891  0.42341327]\n",
            " [ 1.3938872  -0.74982353  1.96636643  1.00676681 -3.21953806  0.44078124\n",
            "  -0.40298654 -1.90114336 -0.04414834  0.55576763]]\n",
            "[[2.95726101 2.04939653 3.09073485 3.22311637 1.78554985]\n",
            " [2.61266989 1.75663954 2.48635951 2.79783984 1.50654432]\n",
            " [2.98361778 2.02894044 2.82637865 2.88685728 1.69799548]\n",
            " [2.98565892 2.85485651 3.58995669 4.0073463  2.2697569 ]\n",
            " [2.49815821 1.97791033 2.77809758 2.71690515 1.59098767]\n",
            " [2.72146909 2.39905911 2.58780909 2.78212857 1.71792628]\n",
            " [2.22935358 1.74438251 2.94718357 2.48955906 2.05838199]\n",
            " [2.30476788 1.92350098 2.41698824 2.81379687 1.38016019]\n",
            " [2.91925254 2.36604123 3.53647969 3.30424184 2.52990887]\n",
            " [3.39559098 2.84629279 4.05845051 4.01068273 2.35816262]]\n",
            "[[ 1.27493732 -1.36152035  0.22231307  0.39894092 -2.44889439  1.07712104\n",
            "   0.04859294 -0.2852999  -0.04965769  0.36641545]\n",
            " [-0.06707332  0.57380876 -0.59374754 -0.11024655  3.19073041 -0.78089721\n",
            "   0.01261327  1.33771879  0.0856878  -0.96942775]\n",
            " [-0.40059519  0.45851031  0.4182905  -0.02959976 -0.27270348 -0.43436174\n",
            "  -0.16934292  0.12737041 -0.01633217  1.03962504]\n",
            " [ 0.85937499  0.24915472  0.14113555  1.05928794 -0.68499915 -0.06684976\n",
            "  -0.12815691 -1.01396696  0.20588942  0.11753784]\n",
            " [ 0.16156588 -0.13525516 -0.29583776 -0.46093327  0.16696753  0.77650726\n",
            "  -0.27989737  0.59507263  0.14910237 -0.02073997]\n",
            " [ 0.07408776  0.04623354  0.17182269  0.00904331 -0.03240383 -0.13457945\n",
            "   0.16257474 -0.94304237 -0.3119112   0.51984891]\n",
            " [-0.75110573  0.12926687 -0.34458549 -0.42560628  1.1613394  -0.14196631\n",
            "  -0.04129586  0.48842239  0.70803941 -0.16015134]\n",
            " [ 0.81624763  0.5597184  -0.64424426  0.61963734 -0.08500859  0.04665222\n",
            "   0.03928204 -0.33781095 -0.09232803 -0.10080329]\n",
            " [-0.02171434 -0.34965513 -0.01015706 -0.70063053 -0.31642589  0.36684179\n",
            "   0.62621827  0.09938639 -0.03166521  0.35532547]\n",
            " [ 1.01240745 -0.36009522  1.65588343  0.74979192 -2.12594439  0.40286315\n",
            "  -0.25535869 -0.69570551 -0.02440717  0.10914197]]\n"
          ],
          "name": "stdout"
        }
      ]
    },
    {
      "cell_type": "markdown",
      "metadata": {
        "id": "Qne3RnfOL6-4",
        "colab_type": "text"
      },
      "source": [
        "## End of Part - 1\n",
        " --- --- ---"
      ]
    },
    {
      "cell_type": "markdown",
      "metadata": {
        "id": "LA-m4UYkMPTe",
        "colab_type": "text"
      },
      "source": [
        "## Part - 2\n",
        "---\n",
        "In this part, you will be working with the library ```pandas```. Import this library with an alias name ```pd```."
      ]
    },
    {
      "cell_type": "code",
      "metadata": {
        "id": "i8z7TpnZSIms",
        "colab_type": "code",
        "colab": {}
      },
      "source": [
        "# Initial imports\n",
        "import pandas as pd"
      ],
      "execution_count": 0,
      "outputs": []
    },
    {
      "cell_type": "markdown",
      "metadata": {
        "id": "2v-HkHnyuQ3X",
        "colab_type": "text"
      },
      "source": [
        "Download dataset from: http://biostat.mc.vanderbilt.edu/wiki/pub/Main/DataSets/titanic3.csv\n",
        "Read the data and display the first 5 rows"
      ]
    },
    {
      "cell_type": "code",
      "metadata": {
        "id": "LinX5ywNTUIm",
        "colab_type": "code",
        "colab": {
          "base_uri": "https://localhost:8080/",
          "height": 204
        },
        "outputId": "e5c031b7-5893-455d-d744-7d12cfe47b80"
      },
      "source": [
        "#Download dataset from: http://biostat.mc.vanderbilt.edu/wiki/pub/Main/DataSets/titanic3.csv\n",
        "\n",
        "file_url = \"http://biostat.mc.vanderbilt.edu/wiki/pub/Main/DataSets/titanic3.csv\"\n",
        "df = pd.read_csv(file_url)\n",
        "df.head()"
      ],
      "execution_count": 15,
      "outputs": [
        {
          "output_type": "execute_result",
          "data": {
            "text/html": [
              "<div>\n",
              "<style scoped>\n",
              "    .dataframe tbody tr th:only-of-type {\n",
              "        vertical-align: middle;\n",
              "    }\n",
              "\n",
              "    .dataframe tbody tr th {\n",
              "        vertical-align: top;\n",
              "    }\n",
              "\n",
              "    .dataframe thead th {\n",
              "        text-align: right;\n",
              "    }\n",
              "</style>\n",
              "<table border=\"1\" class=\"dataframe\">\n",
              "  <thead>\n",
              "    <tr style=\"text-align: right;\">\n",
              "      <th></th>\n",
              "      <th>pclass</th>\n",
              "      <th>survived</th>\n",
              "      <th>name</th>\n",
              "      <th>sex</th>\n",
              "      <th>age</th>\n",
              "      <th>sibsp</th>\n",
              "      <th>parch</th>\n",
              "      <th>ticket</th>\n",
              "      <th>fare</th>\n",
              "      <th>cabin</th>\n",
              "      <th>embarked</th>\n",
              "      <th>boat</th>\n",
              "      <th>body</th>\n",
              "      <th>home.dest</th>\n",
              "    </tr>\n",
              "  </thead>\n",
              "  <tbody>\n",
              "    <tr>\n",
              "      <th>0</th>\n",
              "      <td>1</td>\n",
              "      <td>1</td>\n",
              "      <td>Allen, Miss. Elisabeth Walton</td>\n",
              "      <td>female</td>\n",
              "      <td>29.00</td>\n",
              "      <td>0</td>\n",
              "      <td>0</td>\n",
              "      <td>24160</td>\n",
              "      <td>211.3375</td>\n",
              "      <td>B5</td>\n",
              "      <td>S</td>\n",
              "      <td>2</td>\n",
              "      <td>NaN</td>\n",
              "      <td>St Louis, MO</td>\n",
              "    </tr>\n",
              "    <tr>\n",
              "      <th>1</th>\n",
              "      <td>1</td>\n",
              "      <td>1</td>\n",
              "      <td>Allison, Master. Hudson Trevor</td>\n",
              "      <td>male</td>\n",
              "      <td>0.92</td>\n",
              "      <td>1</td>\n",
              "      <td>2</td>\n",
              "      <td>113781</td>\n",
              "      <td>151.5500</td>\n",
              "      <td>C22 C26</td>\n",
              "      <td>S</td>\n",
              "      <td>11</td>\n",
              "      <td>NaN</td>\n",
              "      <td>Montreal, PQ / Chesterville, ON</td>\n",
              "    </tr>\n",
              "    <tr>\n",
              "      <th>2</th>\n",
              "      <td>1</td>\n",
              "      <td>0</td>\n",
              "      <td>Allison, Miss. Helen Loraine</td>\n",
              "      <td>female</td>\n",
              "      <td>2.00</td>\n",
              "      <td>1</td>\n",
              "      <td>2</td>\n",
              "      <td>113781</td>\n",
              "      <td>151.5500</td>\n",
              "      <td>C22 C26</td>\n",
              "      <td>S</td>\n",
              "      <td>NaN</td>\n",
              "      <td>NaN</td>\n",
              "      <td>Montreal, PQ / Chesterville, ON</td>\n",
              "    </tr>\n",
              "    <tr>\n",
              "      <th>3</th>\n",
              "      <td>1</td>\n",
              "      <td>0</td>\n",
              "      <td>Allison, Mr. Hudson Joshua Creighton</td>\n",
              "      <td>male</td>\n",
              "      <td>30.00</td>\n",
              "      <td>1</td>\n",
              "      <td>2</td>\n",
              "      <td>113781</td>\n",
              "      <td>151.5500</td>\n",
              "      <td>C22 C26</td>\n",
              "      <td>S</td>\n",
              "      <td>NaN</td>\n",
              "      <td>135.0</td>\n",
              "      <td>Montreal, PQ / Chesterville, ON</td>\n",
              "    </tr>\n",
              "    <tr>\n",
              "      <th>4</th>\n",
              "      <td>1</td>\n",
              "      <td>0</td>\n",
              "      <td>Allison, Mrs. Hudson J C (Bessie Waldo Daniels)</td>\n",
              "      <td>female</td>\n",
              "      <td>25.00</td>\n",
              "      <td>1</td>\n",
              "      <td>2</td>\n",
              "      <td>113781</td>\n",
              "      <td>151.5500</td>\n",
              "      <td>C22 C26</td>\n",
              "      <td>S</td>\n",
              "      <td>NaN</td>\n",
              "      <td>NaN</td>\n",
              "      <td>Montreal, PQ / Chesterville, ON</td>\n",
              "    </tr>\n",
              "  </tbody>\n",
              "</table>\n",
              "</div>"
            ],
            "text/plain": [
              "   pclass  survived  ...   body                        home.dest\n",
              "0       1         1  ...    NaN                     St Louis, MO\n",
              "1       1         1  ...    NaN  Montreal, PQ / Chesterville, ON\n",
              "2       1         0  ...    NaN  Montreal, PQ / Chesterville, ON\n",
              "3       1         0  ...  135.0  Montreal, PQ / Chesterville, ON\n",
              "4       1         0  ...    NaN  Montreal, PQ / Chesterville, ON\n",
              "\n",
              "[5 rows x 14 columns]"
            ]
          },
          "metadata": {
            "tags": []
          },
          "execution_count": 15
        }
      ]
    },
    {
      "cell_type": "markdown",
      "metadata": {
        "id": "vTk1-mF5WYFN",
        "colab_type": "text"
      },
      "source": [
        "### Preprocessing of the Dataset"
      ]
    },
    {
      "cell_type": "markdown",
      "metadata": {
        "id": "kx9UrI9WWt17",
        "colab_type": "text"
      },
      "source": [
        "\n",
        "\n",
        "---\n",
        "\n",
        "\n",
        "**1. Convert the categorical values of columns 'sex', 'embarked', 'pclass' into dummy values and add them into titanic_data_new DataFrame**\n",
        "\n",
        "\n",
        "\n",
        "\n",
        "---\n",
        "\n"
      ]
    },
    {
      "cell_type": "code",
      "metadata": {
        "id": "AwDh9njbZ0QU",
        "colab_type": "code",
        "colab": {
          "base_uri": "https://localhost:8080/",
          "height": 204
        },
        "outputId": "4d1be7bb-0099-470d-d9ba-ac052c02582c"
      },
      "source": [
        "titanic_data_new = df.filter(['sex', 'embarked', 'pclass'], axis=1)\n",
        "titanic_data_new = pd.get_dummies( titanic_data_new )\n",
        "titanic_data_new.head()"
      ],
      "execution_count": 27,
      "outputs": [
        {
          "output_type": "execute_result",
          "data": {
            "text/html": [
              "<div>\n",
              "<style scoped>\n",
              "    .dataframe tbody tr th:only-of-type {\n",
              "        vertical-align: middle;\n",
              "    }\n",
              "\n",
              "    .dataframe tbody tr th {\n",
              "        vertical-align: top;\n",
              "    }\n",
              "\n",
              "    .dataframe thead th {\n",
              "        text-align: right;\n",
              "    }\n",
              "</style>\n",
              "<table border=\"1\" class=\"dataframe\">\n",
              "  <thead>\n",
              "    <tr style=\"text-align: right;\">\n",
              "      <th></th>\n",
              "      <th>pclass</th>\n",
              "      <th>sex_female</th>\n",
              "      <th>sex_male</th>\n",
              "      <th>embarked_C</th>\n",
              "      <th>embarked_Q</th>\n",
              "      <th>embarked_S</th>\n",
              "    </tr>\n",
              "  </thead>\n",
              "  <tbody>\n",
              "    <tr>\n",
              "      <th>0</th>\n",
              "      <td>1</td>\n",
              "      <td>1</td>\n",
              "      <td>0</td>\n",
              "      <td>0</td>\n",
              "      <td>0</td>\n",
              "      <td>1</td>\n",
              "    </tr>\n",
              "    <tr>\n",
              "      <th>1</th>\n",
              "      <td>1</td>\n",
              "      <td>0</td>\n",
              "      <td>1</td>\n",
              "      <td>0</td>\n",
              "      <td>0</td>\n",
              "      <td>1</td>\n",
              "    </tr>\n",
              "    <tr>\n",
              "      <th>2</th>\n",
              "      <td>1</td>\n",
              "      <td>1</td>\n",
              "      <td>0</td>\n",
              "      <td>0</td>\n",
              "      <td>0</td>\n",
              "      <td>1</td>\n",
              "    </tr>\n",
              "    <tr>\n",
              "      <th>3</th>\n",
              "      <td>1</td>\n",
              "      <td>0</td>\n",
              "      <td>1</td>\n",
              "      <td>0</td>\n",
              "      <td>0</td>\n",
              "      <td>1</td>\n",
              "    </tr>\n",
              "    <tr>\n",
              "      <th>4</th>\n",
              "      <td>1</td>\n",
              "      <td>1</td>\n",
              "      <td>0</td>\n",
              "      <td>0</td>\n",
              "      <td>0</td>\n",
              "      <td>1</td>\n",
              "    </tr>\n",
              "  </tbody>\n",
              "</table>\n",
              "</div>"
            ],
            "text/plain": [
              "   pclass  sex_female  sex_male  embarked_C  embarked_Q  embarked_S\n",
              "0       1           1         0           0           0           1\n",
              "1       1           0         1           0           0           1\n",
              "2       1           1         0           0           0           1\n",
              "3       1           0         1           0           0           1\n",
              "4       1           1         0           0           0           1"
            ]
          },
          "metadata": {
            "tags": []
          },
          "execution_count": 27
        }
      ]
    },
    {
      "cell_type": "markdown",
      "metadata": {
        "id": "Z9bxOfzDbY-n",
        "colab_type": "text"
      },
      "source": [
        "\n",
        "\n",
        "---\n",
        "\n",
        "\n",
        "**2. Fill the missing data in Age and Fare columns with the mean value of the respected column then add these columns to titanic_data_new**\n",
        "\n",
        "\n",
        "---\n",
        "\n"
      ]
    },
    {
      "cell_type": "code",
      "metadata": {
        "id": "DNx7Pr0ehhAs",
        "colab_type": "code",
        "colab": {
          "base_uri": "https://localhost:8080/",
          "height": 153
        },
        "outputId": "95d4c74f-15c0-4534-ea71-0a575771772d"
      },
      "source": [
        "titanic_data_new['age']=df['age'].fillna(df['age'].mean())\n",
        "titanic_data_new['fare']=df['fare'].fillna(df['fare'].mean())\n",
        "print(titanic_data_new.head())"
      ],
      "execution_count": 29,
      "outputs": [
        {
          "output_type": "stream",
          "text": [
            "   pclass  sex_female  sex_male  ...  embarked_S    age      fare\n",
            "0       1           1         0  ...           1  29.00  211.3375\n",
            "1       1           0         1  ...           1   0.92  151.5500\n",
            "2       1           1         0  ...           1   2.00  151.5500\n",
            "3       1           0         1  ...           1  30.00  151.5500\n",
            "4       1           1         0  ...           1  25.00  151.5500\n",
            "\n",
            "[5 rows x 8 columns]\n"
          ],
          "name": "stdout"
        }
      ]
    },
    {
      "cell_type": "markdown",
      "metadata": {
        "id": "SlRzKfhxkd1M",
        "colab_type": "text"
      },
      "source": [
        "###Normalization\n",
        "\n",
        "\n",
        "---\n",
        "\n",
        "\n",
        "\n",
        "1. Normalize the columns which have numerical data\n",
        "\n",
        "\n",
        "\n",
        "---\n",
        "\n"
      ]
    },
    {
      "cell_type": "code",
      "metadata": {
        "id": "Y3hpu92TlM38",
        "colab_type": "code",
        "colab": {
          "base_uri": "https://localhost:8080/",
          "height": 221
        },
        "outputId": "855f1cef-c6f5-4ce4-9df1-47110e020e1e"
      },
      "source": [
        "from sklearn import preprocessing\n",
        "tmp = titanic_data_new.filter(['age',\t\t'fare'], axis=1)\n",
        "x = tmp.values #returns a numpy array\n",
        "min_max_scaler = preprocessing.MinMaxScaler()\n",
        "x_scaled = min_max_scaler.fit_transform(x)\n",
        "df_normalized = pd.DataFrame(x_scaled)\n",
        "\n",
        "df_normalized.columns = ['age',\t\t'fare']\n",
        "\n",
        "\n",
        "'''\n",
        "x = df[['age']].values.astype(float)\n",
        "min_max_scaler = preprocessing.MinMaxScaler()\n",
        "x_scaled = min_max_scaler.fit_transform(x)\n",
        "df_normalized = pd.DataFrame(x_scaled)\n",
        "\n",
        "x = df[['fare']].values.astype(float)\n",
        "min_max_scaler = preprocessing.MinMaxScaler()\n",
        "x_scaled = min_max_scaler.fit_transform(x)\n",
        "df_normalized_fare = pd.DataFrame(x_scaled)\n",
        "'''\n",
        "print(df_normalized)\n",
        "#print(df_normalized_fare)"
      ],
      "execution_count": 48,
      "outputs": [
        {
          "output_type": "stream",
          "text": [
            "0       0.361142\n",
            "1       0.009395\n",
            "2       0.022924\n",
            "3       0.373669\n",
            "4       0.311036\n",
            "          ...   \n",
            "1304    0.179506\n",
            "1305    0.372180\n",
            "1306    0.329826\n",
            "1307    0.336089\n",
            "1308    0.361142\n",
            "Name: age, Length: 1309, dtype: float64\n"
          ],
          "name": "stdout"
        }
      ]
    },
    {
      "cell_type": "markdown",
      "metadata": {
        "id": "wB9-5x83mFAO",
        "colab_type": "text"
      },
      "source": [
        "\n",
        "\n",
        "---\n",
        "2. Drop the original age, fare columns\n",
        "3. Append the normalized columns to the titanic_data_new DataFrame.\n",
        "\n",
        "\n",
        "\n",
        "---\n",
        "\n"
      ]
    },
    {
      "cell_type": "code",
      "metadata": {
        "id": "Kb00kM0onQJy",
        "colab_type": "code",
        "colab": {
          "base_uri": "https://localhost:8080/",
          "height": 204
        },
        "outputId": "c5548a39-772d-401d-e518-7893ea5e5a3b"
      },
      "source": [
        "df = df.drop(columns=['age', 'fare'], axis=1)\n",
        "df.head()\n",
        "\n",
        "titanic_data_new['age_norm'] = df_normalized['age']\n",
        "titanic_data_new['fare_norm'] = df_normalized['fare']\n",
        "titanic_data_new.head()"
      ],
      "execution_count": 51,
      "outputs": [
        {
          "output_type": "execute_result",
          "data": {
            "text/html": [
              "<div>\n",
              "<style scoped>\n",
              "    .dataframe tbody tr th:only-of-type {\n",
              "        vertical-align: middle;\n",
              "    }\n",
              "\n",
              "    .dataframe tbody tr th {\n",
              "        vertical-align: top;\n",
              "    }\n",
              "\n",
              "    .dataframe thead th {\n",
              "        text-align: right;\n",
              "    }\n",
              "</style>\n",
              "<table border=\"1\" class=\"dataframe\">\n",
              "  <thead>\n",
              "    <tr style=\"text-align: right;\">\n",
              "      <th></th>\n",
              "      <th>pclass</th>\n",
              "      <th>sex_female</th>\n",
              "      <th>sex_male</th>\n",
              "      <th>embarked_C</th>\n",
              "      <th>embarked_Q</th>\n",
              "      <th>embarked_S</th>\n",
              "      <th>age</th>\n",
              "      <th>fare</th>\n",
              "      <th>age_norm</th>\n",
              "      <th>fare_norm</th>\n",
              "    </tr>\n",
              "  </thead>\n",
              "  <tbody>\n",
              "    <tr>\n",
              "      <th>0</th>\n",
              "      <td>1</td>\n",
              "      <td>1</td>\n",
              "      <td>0</td>\n",
              "      <td>0</td>\n",
              "      <td>0</td>\n",
              "      <td>1</td>\n",
              "      <td>29.00</td>\n",
              "      <td>211.3375</td>\n",
              "      <td>0.361142</td>\n",
              "      <td>0.412503</td>\n",
              "    </tr>\n",
              "    <tr>\n",
              "      <th>1</th>\n",
              "      <td>1</td>\n",
              "      <td>0</td>\n",
              "      <td>1</td>\n",
              "      <td>0</td>\n",
              "      <td>0</td>\n",
              "      <td>1</td>\n",
              "      <td>0.92</td>\n",
              "      <td>151.5500</td>\n",
              "      <td>0.009395</td>\n",
              "      <td>0.295806</td>\n",
              "    </tr>\n",
              "    <tr>\n",
              "      <th>2</th>\n",
              "      <td>1</td>\n",
              "      <td>1</td>\n",
              "      <td>0</td>\n",
              "      <td>0</td>\n",
              "      <td>0</td>\n",
              "      <td>1</td>\n",
              "      <td>2.00</td>\n",
              "      <td>151.5500</td>\n",
              "      <td>0.022924</td>\n",
              "      <td>0.295806</td>\n",
              "    </tr>\n",
              "    <tr>\n",
              "      <th>3</th>\n",
              "      <td>1</td>\n",
              "      <td>0</td>\n",
              "      <td>1</td>\n",
              "      <td>0</td>\n",
              "      <td>0</td>\n",
              "      <td>1</td>\n",
              "      <td>30.00</td>\n",
              "      <td>151.5500</td>\n",
              "      <td>0.373669</td>\n",
              "      <td>0.295806</td>\n",
              "    </tr>\n",
              "    <tr>\n",
              "      <th>4</th>\n",
              "      <td>1</td>\n",
              "      <td>1</td>\n",
              "      <td>0</td>\n",
              "      <td>0</td>\n",
              "      <td>0</td>\n",
              "      <td>1</td>\n",
              "      <td>25.00</td>\n",
              "      <td>151.5500</td>\n",
              "      <td>0.311036</td>\n",
              "      <td>0.295806</td>\n",
              "    </tr>\n",
              "  </tbody>\n",
              "</table>\n",
              "</div>"
            ],
            "text/plain": [
              "   pclass  sex_female  sex_male  ...      fare  age_norm  fare_norm\n",
              "0       1           1         0  ...  211.3375  0.361142   0.412503\n",
              "1       1           0         1  ...  151.5500  0.009395   0.295806\n",
              "2       1           1         0  ...  151.5500  0.022924   0.295806\n",
              "3       1           0         1  ...  151.5500  0.373669   0.295806\n",
              "4       1           1         0  ...  151.5500  0.311036   0.295806\n",
              "\n",
              "[5 rows x 10 columns]"
            ]
          },
          "metadata": {
            "tags": []
          },
          "execution_count": 51
        }
      ]
    },
    {
      "cell_type": "markdown",
      "metadata": {
        "id": "uLxN3PozntKe",
        "colab_type": "text"
      },
      "source": [
        "###Plotting\n",
        "1. plot the age against the ID(continuous)\n",
        "2. plot the fare against the ID(scatter)"
      ]
    },
    {
      "cell_type": "code",
      "metadata": {
        "id": "LdSfNEKYn_RO",
        "colab_type": "code",
        "colab": {
          "base_uri": "https://localhost:8080/",
          "height": 541
        },
        "outputId": "c4a609df-2497-4bc1-b2c7-a3c1d8f1c980"
      },
      "source": [
        "import matplotlib.pyplot as plt\n",
        "\n",
        "plt.plot(titanic_data_new['age'], np.arange(titanic_data_new['age'].size))\n",
        "plt.xlabel('Age')\n",
        "plt.ylabel('ID')\n",
        "plt.show()\n",
        "\n",
        "plt.scatter(titanic_data_new['fare'], np.arange(titanic_data_new['fare'].size))\n",
        "plt.xlabel('Fare')\n",
        "plt.ylabel('ID')\n",
        "plt.show()"
      ],
      "execution_count": 54,
      "outputs": [
        {
          "output_type": "display_data",
          "data": {
            "image/png": "[encoded data removed]",
            "text/plain": [
              "<Figure size 432x288 with 1 Axes>"
            ]
          },
          "metadata": {
            "tags": [],
            "needs_background": "light"
          }
        },
        {
          "output_type": "display_data",
          "data": {
            "image/png": "[encoded data removed]",
            "text/plain": [
              "<Figure size 432x288 with 1 Axes>"
            ]
          },
          "metadata": {
            "tags": [],
            "needs_background": "light"
          }
        }
      ]
    },
    {
      "cell_type": "markdown",
      "metadata": {
        "id": "LQr7y6eevTvy",
        "colab_type": "text"
      },
      "source": [
        "## End of Part - 2\n",
        "---"
      ]
    },
    {
      "cell_type": "markdown",
      "metadata": {
        "id": "TWhZcKvfvW2B",
        "colab_type": "text"
      },
      "source": [
        "## Part - 3\n",
        "---"
      ]
    },
    {
      "cell_type": "markdown",
      "metadata": {
        "id": "8bY4H9DszQ2S",
        "colab_type": "text"
      },
      "source": [
        "In this part, you will work with the library ```matplotlib```. Import the ```pyplot``` from ```matplotlib``` with an alias name ```plt```."
      ]
    },
    {
      "cell_type": "code",
      "metadata": {
        "id": "hPN6qctRzknT",
        "colab_type": "code",
        "colab": {}
      },
      "source": [
        "import matplotlib.pyplot as plt\n",
        "import math"
      ],
      "execution_count": 0,
      "outputs": []
    },
    {
      "cell_type": "markdown",
      "metadata": {
        "id": "fQ6KX_Aezlub",
        "colab_type": "text"
      },
      "source": [
        "Plot the sine function with domain in $[-3\\pi,3\\pi]$. Label the axes appropriately. Add title $\\sin(x)$. Use latex formatting while adding the title. Set the plot size to (10,10)"
      ]
    },
    {
      "cell_type": "code",
      "metadata": {
        "id": "0tA3J5mA1cQ0",
        "colab_type": "code",
        "colab": {
          "base_uri": "https://localhost:8080/",
          "height": 279
        },
        "outputId": "d1fc9ad8-45e5-48ac-fc7a-d4a58f142d5e"
      },
      "source": [
        "x=np.arange(-3*math.pi , 3*math.pi, 0.1)\n",
        "plt.plot(x, np.sin(x))\n",
        "plt.xlabel('SIN')\n",
        "plt.ylabel('Values')\n",
        "plt.show()"
      ],
      "execution_count": 57,
      "outputs": [
        {
          "output_type": "display_data",
          "data": {
            "image/png": "[encoded data removed]",
            "text/plain": [
              "<Figure size 432x288 with 1 Axes>"
            ]
          },
          "metadata": {
            "tags": [],
            "needs_background": "light"
          }
        }
      ]
    },
    {
      "cell_type": "markdown",
      "metadata": {
        "id": "6KV7RqMm1d8P",
        "colab_type": "text"
      },
      "source": [
        "Plot $\\sin(x)$ and its spectrum, $\\cos(x)$ and its spectrum in a single plot, in the domain $[-2\\pi,2\\pi]$. Label the plot appropriately."
      ]
    },
    {
      "cell_type": "code",
      "metadata": {
        "id": "-OJuY0HO12Oo",
        "colab_type": "code",
        "colab": {
          "base_uri": "https://localhost:8080/",
          "height": 279
        },
        "outputId": "244afa43-a612-43a9-92f6-a56e269fc673"
      },
      "source": [
        "x=np.arange(-3*math.pi , 3*math.pi, 0.1)\n",
        "plt.plot(x, np.cos(x))\n",
        "plt.xlabel('COS')\n",
        "plt.ylabel('Values')\n",
        "plt.show()"
      ],
      "execution_count": 58,
      "outputs": [
        {
          "output_type": "display_data",
          "data": {
            "image/png": "[encoded data removed]",
            "text/plain": [
              "<Figure size 432x288 with 1 Axes>"
            ]
          },
          "metadata": {
            "tags": [],
            "needs_background": "light"
          }
        }
      ]
    },
    {
      "cell_type": "markdown",
      "metadata": {
        "id": "1S6ZRm6B18ZF",
        "colab_type": "text"
      },
      "source": [
        "## End of Part - 3\n",
        "---"
      ]
    },
    {
      "cell_type": "markdown",
      "metadata": {
        "id": "MUucpzXBl096",
        "colab_type": "text"
      },
      "source": [
        "Create a Github repository with the name ***SHALA2020*** and save this assignment there."
      ]
    }
  ]
}