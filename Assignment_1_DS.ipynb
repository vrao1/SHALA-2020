{
  "nbformat": 4,
  "nbformat_minor": 0,
  "metadata": {
    "colab": {
      "name": "Assignment -1 - DS.ipynb",
      "provenance": [],
      "collapsed_sections": [],
      "include_colab_link": true
    },
    "kernelspec": {
      "name": "python3",
      "display_name": "Python 3"
    }
  },
  "cells": [
    {
      "cell_type": "markdown",
      "metadata": {
        "id": "view-in-github",
        "colab_type": "text"
      },
      "source": [
        "<a href=\"https://colab.research.google.com/github/vrao1/SHALA-2020/blob/master/Assignment_1_DS.ipynb\" target=\"_parent\"><img src=\"https://colab.research.google.com/assets/colab-badge.svg\" alt=\"Open In Colab\"/></a>"
      ]
    },
    {
      "cell_type": "markdown",
      "metadata": {
        "id": "hmr2U-GChnlR",
        "colab_type": "text"
      },
      "source": [
        "\n",
        "# **Assignment - 1 : Getting Started**\n",
        "\n",
        "---\n",
        "\n",
        "This assignment will get you familiarized with python libraries required for ***data science*** and ***machine learning***. You will have to complete the code snippets and run them. "
      ]
    },
    {
      "cell_type": "markdown",
      "metadata": {
        "id": "211pD45xEO0u",
        "colab_type": "text"
      },
      "source": [
        "## **Note :**   Use only the methods and attributes of the ```numpy``` library. **Do not** hard-code them. Avoid loops as much as possible."
      ]
    },
    {
      "cell_type": "markdown",
      "metadata": {
        "id": "O7v9C4mun3SQ",
        "colab_type": "text"
      },
      "source": [
        "---\n",
        "## Part - 1\n",
        " In this part, you will work with the library ```numpy```. \n",
        "\n",
        "\n"
      ]
    },
    {
      "cell_type": "markdown",
      "metadata": {
        "id": "846yDaXQwiMD",
        "colab_type": "text"
      },
      "source": [
        "Import ```numpy``` with an alias name ```np```. Initialize two arrays $a$, $b$ of size $3 \\times 5$ with random values and print them. "
      ]
    },
    {
      "cell_type": "code",
      "metadata": {
        "id": "a2lJdRf8x9f2",
        "colab_type": "code",
        "colab": {
          "base_uri": "https://localhost:8080/",
          "height": 119
        },
        "outputId": "e55a0b1b-51ff-44ba-e2c6-1372b52da682"
      },
      "source": [
        "import numpy as np\n",
        "a = np.random.randint(100, size=(3,5))\n",
        "b = np.random.randint(100, size=(3,5))\n",
        "print(a)\n",
        "\n",
        "print(b)"
      ],
      "execution_count": 25,
      "outputs": [
        {
          "output_type": "stream",
          "text": [
            "[[42 84 75 68  6]\n",
            " [68 47  3 76 52]\n",
            " [78 15 20 99 58]]\n",
            "[[23 79 13 85 48]\n",
            " [49 69 41 35 64]\n",
            " [95 69 94  0 50]]\n"
          ],
          "name": "stdout"
        }
      ]
    },
    {
      "cell_type": "markdown",
      "metadata": {
        "id": "p7jtpYT4wiO6",
        "colab_type": "text"
      },
      "source": [
        "Initialize and print two arrays $c$ and $d$ having the following properties:\n",
        "*   $c$ is a row vector with all non-negative integer values less than 100\n",
        "* $d$ is a square matrix of size 3 having all entries as 0.0"
      ]
    },
    {
      "cell_type": "code",
      "metadata": {
        "id": "_MyeCO3_o3oq",
        "colab_type": "code",
        "colab": {
          "base_uri": "https://localhost:8080/",
          "height": 153
        },
        "outputId": "f5d2a9ec-95ac-4cc6-8d16-8c4479de6bbf"
      },
      "source": [
        "c = np.random.randint(100, size=(100))\n",
        "\n",
        "print(c)\n",
        "\n",
        "d = np.zeros((3,3))\n",
        "\n",
        "print(d)"
      ],
      "execution_count": 26,
      "outputs": [
        {
          "output_type": "stream",
          "text": [
            "[36 34 48 93  3 98 42 77 21 73  0 10 43 58 23 59  2 98 62 35 94 67 82 46\n",
            " 99 20 81 50 27 14 41 58 65 36 10 86 43 11  2 51 80 32 54  0 38 19 46 42\n",
            " 56 60 77 30 24  2  3 94 98 13 40 72 19 95 72 26 66 52 67 61 14 96  4 67\n",
            " 11 86 77 75 56 16 24 29 21 25 80 60 61 83 33 32 70 85 31 13 71 56 24 79\n",
            " 41 18 40 54]\n",
            "[[0. 0. 0.]\n",
            " [0. 0. 0.]\n",
            " [0. 0. 0.]]\n"
          ],
          "name": "stdout"
        }
      ]
    },
    {
      "cell_type": "markdown",
      "metadata": {
        "id": "qqgtSsa88Zmh",
        "colab_type": "text"
      },
      "source": [
        "We have $e$ as following : ```e = [[1,2,3],[4,5,6],[7,8,9]]```. Change $e$ as a numpy array and print it."
      ]
    },
    {
      "cell_type": "code",
      "metadata": {
        "id": "Krhm4bVE7RET",
        "colab_type": "code",
        "colab": {
          "base_uri": "https://localhost:8080/",
          "height": 68
        },
        "outputId": "d5a6a3db-7e95-41d4-d9f6-deb327ed6ab5"
      },
      "source": [
        "e = [[1,2,3],[4,5,6],[7,8,9]]\n",
        "f = np.array(e)\n",
        "print(f)"
      ],
      "execution_count": 27,
      "outputs": [
        {
          "output_type": "stream",
          "text": [
            "[[1 2 3]\n",
            " [4 5 6]\n",
            " [7 8 9]]\n"
          ],
          "name": "stdout"
        }
      ]
    },
    {
      "cell_type": "markdown",
      "metadata": {
        "id": "1qTikI0foam9",
        "colab_type": "text"
      },
      "source": [
        "$f$ and $g$ are two square matrices of size 5 such that all the entries of $f$ are 1 and $g$ is an identity matrix. Initialize them and print them"
      ]
    },
    {
      "cell_type": "code",
      "metadata": {
        "id": "DvaLckI49aBV",
        "colab_type": "code",
        "colab": {
          "base_uri": "https://localhost:8080/",
          "height": 187
        },
        "outputId": "848d3dbc-c7df-41d2-914c-280c3727b982"
      },
      "source": [
        "f = np.ones((5,5), dtype=int)\n",
        "g = np.identity(5, dtype=int)\n",
        "print(f)\n",
        "\n",
        "print(g)"
      ],
      "execution_count": 28,
      "outputs": [
        {
          "output_type": "stream",
          "text": [
            "[[1 1 1 1 1]\n",
            " [1 1 1 1 1]\n",
            " [1 1 1 1 1]\n",
            " [1 1 1 1 1]\n",
            " [1 1 1 1 1]]\n",
            "[[1 0 0 0 0]\n",
            " [0 1 0 0 0]\n",
            " [0 0 1 0 0]\n",
            " [0 0 0 1 0]\n",
            " [0 0 0 0 1]]\n"
          ],
          "name": "stdout"
        }
      ]
    },
    {
      "cell_type": "markdown",
      "metadata": {
        "id": "gcBZAZibAKcg",
        "colab_type": "text"
      },
      "source": [
        "Reshape $c$ into a $10 \\times 10$ matrix and name it $h$. Now flatten $h$, call it $c^\\prime$ and print **YES** when the shapes of $c$ and $c^\\prime$ are same. Otherwise print **NO**."
      ]
    },
    {
      "cell_type": "code",
      "metadata": {
        "id": "I71vtO9bA9Pi",
        "colab_type": "code",
        "colab": {
          "base_uri": "https://localhost:8080/",
          "height": 204
        },
        "outputId": "10ed9859-8bff-47e7-fdbb-7be3f44427d1"
      },
      "source": [
        "h = c.reshape((10,10))\n",
        "\n",
        "print(h)\n",
        "\n",
        "c_prime = h.flatten()\n",
        "\n",
        "if c.shape == c_prime.shape:\n",
        "  print(\"YES\")\n",
        "else:\n",
        "  print(\"NO\")"
      ],
      "execution_count": 29,
      "outputs": [
        {
          "output_type": "stream",
          "text": [
            "[[36 34 48 93  3 98 42 77 21 73]\n",
            " [ 0 10 43 58 23 59  2 98 62 35]\n",
            " [94 67 82 46 99 20 81 50 27 14]\n",
            " [41 58 65 36 10 86 43 11  2 51]\n",
            " [80 32 54  0 38 19 46 42 56 60]\n",
            " [77 30 24  2  3 94 98 13 40 72]\n",
            " [19 95 72 26 66 52 67 61 14 96]\n",
            " [ 4 67 11 86 77 75 56 16 24 29]\n",
            " [21 25 80 60 61 83 33 32 70 85]\n",
            " [31 13 71 56 24 79 41 18 40 54]]\n",
            "YES\n"
          ],
          "name": "stdout"
        }
      ]
    },
    {
      "cell_type": "markdown",
      "metadata": {
        "id": "8FrecDPiA-Bv",
        "colab_type": "text"
      },
      "source": [
        "Let $A$ denote a randomly initialized three dimensional matrix of shape (2,10,5). Transpose $A$, call it $A^\\prime$, such that its shape is (5,2,10) and print it."
      ]
    },
    {
      "cell_type": "code",
      "metadata": {
        "id": "VbOKqSm6Bkaq",
        "colab_type": "code",
        "colab": {
          "base_uri": "https://localhost:8080/",
          "height": 714
        },
        "outputId": "e61cccc1-c98e-460b-842a-4c7d86955b71"
      },
      "source": [
        "A = np.random.rand(2,10,5)\n",
        "print(A)\n",
        "\n",
        "#A_prime = \n",
        "#print(np.transpose(A, (5,2,10)))\n",
        "\n",
        "#print(A_prime)"
      ],
      "execution_count": 30,
      "outputs": [
        {
          "output_type": "stream",
          "text": [
            "[[[1.02863359e-01 9.23738895e-02 3.54046662e-01 5.51816259e-01\n",
            "   3.36250935e-02]\n",
            "  [9.68961765e-01 3.20997241e-01 2.21262685e-01 1.41263905e-01\n",
            "   9.72599271e-02]\n",
            "  [9.84042241e-01 2.60340928e-01 5.37022521e-01 4.47926172e-01\n",
            "   9.95690891e-02]\n",
            "  [3.52311661e-01 4.69249174e-01 8.41140130e-01 9.04647744e-01\n",
            "   3.75593838e-02]\n",
            "  [5.08315449e-01 1.66847513e-01 7.79051020e-01 8.64933296e-01\n",
            "   4.11396724e-01]\n",
            "  [1.39972585e-01 3.32223853e-02 9.82574960e-01 3.73290751e-01\n",
            "   4.20075370e-01]\n",
            "  [5.05881151e-02 3.65496106e-01 1.66279737e-02 2.30742335e-01\n",
            "   7.64911699e-01]\n",
            "  [9.44123519e-01 7.49999249e-01 3.39403819e-01 4.89548937e-01\n",
            "   3.38985117e-01]\n",
            "  [1.79490261e-01 1.70986599e-01 4.63450977e-01 8.74572958e-01\n",
            "   9.44119751e-01]\n",
            "  [6.08252866e-01 5.96655406e-01 7.83644245e-01 5.00026298e-01\n",
            "   5.03700568e-02]]\n",
            "\n",
            " [[6.99098075e-01 9.92396399e-01 2.67262538e-01 6.79090616e-01\n",
            "   8.64281443e-01]\n",
            "  [7.50844246e-01 9.64489768e-01 5.54242435e-01 2.12390499e-01\n",
            "   2.22443224e-01]\n",
            "  [2.18749374e-01 5.69573535e-01 4.52109035e-01 9.70236683e-01\n",
            "   6.80544691e-01]\n",
            "  [8.52955659e-02 5.64183327e-02 4.87837704e-01 8.81004562e-01\n",
            "   9.76404387e-01]\n",
            "  [6.17657916e-01 5.42498775e-01 8.54613580e-01 7.43834545e-01\n",
            "   4.78596326e-01]\n",
            "  [6.77081574e-01 6.07045061e-01 7.14696936e-01 4.69497183e-01\n",
            "   4.56014623e-01]\n",
            "  [9.06418087e-01 1.37220420e-01 2.29219323e-01 8.81585399e-01\n",
            "   9.04424976e-01]\n",
            "  [6.45784599e-01 3.24682972e-01 5.19711194e-01 5.53568650e-05\n",
            "   3.11860221e-01]\n",
            "  [4.25451538e-01 8.85337660e-01 6.79879456e-01 4.56129772e-01\n",
            "   4.83408617e-01]\n",
            "  [7.88739428e-01 2.29441834e-01 8.80297603e-01 3.13692393e-01\n",
            "   9.57450856e-01]]]\n"
          ],
          "name": "stdout"
        }
      ]
    },
    {
      "cell_type": "markdown",
      "metadata": {
        "id": "xR2zd-nkCani",
        "colab_type": "text"
      },
      "source": [
        "You have a matrix $X$ of size (10,5) filled with random values. Print the following :\n",
        "* Minimum value and index where it occured, for each column\n",
        "* Maximum value and the index where it occured, for each column\n",
        "* Minimum value and index where it occured, for each row\n",
        "* Maximum value and index where it occured, for each row\n",
        "* Minimum value and index where it occured, for the entire matrix\n",
        "* Maximum value and index where it occured, for the entire matrix"
      ]
    },
    {
      "cell_type": "code",
      "metadata": {
        "id": "FR2Wd4fWD_Og",
        "colab_type": "code",
        "colab": {
          "base_uri": "https://localhost:8080/",
          "height": 153
        },
        "outputId": "e6581d4e-56db-4034-d698-8da15a732747"
      },
      "source": [
        "np.random.seed(0)\n",
        "X = np.random.rand(10,5)\n",
        "mi = np.min(X, axis=0)\n",
        "print(mi)\n",
        "\n",
        "ma = np.max(X, axis=0)\n",
        "print(ma)\n",
        "\n",
        "mi_r = np.min(X, axis=1)\n",
        "print(mi_r)\n",
        "\n",
        "ma_r = np.max(X, axis=1)\n",
        "print(ma_r)\n",
        "\n",
        "mi_all = np.min(X)\n",
        "print(mi_all)\n",
        "\n",
        "ma_all = np.max(X)\n",
        "print(ma_all)"
      ],
      "execution_count": 31,
      "outputs": [
        {
          "output_type": "stream",
          "text": [
            "[0.0871293  0.0202184  0.1289263  0.06022547 0.0187898 ]\n",
            "[0.97861834 0.79915856 0.94466892 0.96366276 0.87001215]\n",
            "[0.4236548  0.38344152 0.07103606 0.0202184  0.11827443 0.14335329\n",
            " 0.0187898  0.61209572 0.06022547 0.1289263 ]\n",
            "[0.71518937 0.96366276 0.92559664 0.87001215 0.97861834 0.94466892\n",
            " 0.77423369 0.94374808 0.6976312  0.67063787]\n",
            "0.018789800436355142\n",
            "0.978618342232764\n"
          ],
          "name": "stdout"
        }
      ]
    },
    {
      "cell_type": "markdown",
      "metadata": {
        "id": "YpjW2ypkEGtS",
        "colab_type": "text"
      },
      "source": [
        "Find and print the following for the matrix X: \n",
        "* Mean of each row and column\n",
        "* Standard deviation of each row and column\n",
        "* Mean of the entire matrix\n",
        "* Standard deviation of entire matrix"
      ]
    },
    {
      "cell_type": "code",
      "metadata": {
        "id": "gMdm2pw0GWjf",
        "colab_type": "code",
        "colab": {
          "base_uri": "https://localhost:8080/",
          "height": 153
        },
        "outputId": "b183045d-58bd-4941-ebaa-383a900b0337"
      },
      "source": [
        "\n",
        "column_mean = np.mean(X, axis=0)\n",
        "row_mean = np.mean(X, axis=1)\n",
        "\n",
        "column_stdev = np.std(X, axis=0)\n",
        "row_stdev = np.std(X, axis=1)\n",
        "\n",
        "mean = np.mean(X)\n",
        "stdev = np.std(X)\n",
        "\n",
        "print(column_mean)\n",
        "print(row_mean)\n",
        "\n",
        "print(column_stdev)\n",
        "print(row_stdev)\n",
        "\n",
        "print(mean)\n",
        "print(stdev)"
      ],
      "execution_count": 21,
      "outputs": [
        {
          "output_type": "stream",
          "text": [
            "[0.56044382 0.46781457 0.62009909 0.64025127 0.40121685]\n",
            "[0.56706085 0.66447172 0.57705944 0.51762729 0.62761197 0.5328907\n",
            " 0.41643268 0.69444672 0.44423265 0.33781717]\n",
            "[0.24687647 0.25752158 0.22948615 0.28054144 0.26584905]\n",
            "[0.09445299 0.23322986 0.29189733 0.38052993 0.30431633 0.26338419\n",
            " 0.25841437 0.12727959 0.23169975 0.18537332]\n",
            "0.5379651182755409\n",
            "0.27226582292177587\n"
          ],
          "name": "stdout"
        }
      ]
    },
    {
      "cell_type": "markdown",
      "metadata": {
        "id": "7dw7W8HOGXKA",
        "colab_type": "text"
      },
      "source": [
        "Let $Y$ denote a square matrix of size 10 with random values. Print the following:\n",
        "* Determinant\n",
        "* Rank of the matrix\n",
        "* Diagonal Elements\n",
        "* Trace\n",
        "* Eigen values\n",
        "* Matrices obtained after Singular Value Decomposition\n",
        "* Inverse if exists, otherwise Pseudo-Inverse\n",
        "* Multiplication $Y$ with $X$\n",
        "* Element-wise multiplication of $Y$ and its inverse(or pseudo-inverse)"
      ]
    },
    {
      "cell_type": "code",
      "metadata": {
        "id": "Tswbn9hgL7yi",
        "colab_type": "code",
        "colab": {
          "base_uri": "https://localhost:8080/",
          "height": 130
        },
        "outputId": "50e2d0b5-5632-493a-f8c6-06b99db09a5a"
      },
      "source": [
        "import numpy as np\n",
        "\n",
        "np.random.seed(3)\n",
        "Y=np.random.rand(10,10)\n",
        "\n",
        "det=np.linalg.det(Y)\n",
        "print(\"Determinant :\", det)\n",
        "\n",
        "rank = np.linalg.matrix_rank(Y)\n",
        "print(\"Rank : \", rank)\n",
        "\n",
        "diag = Y.diagonal()\n",
        "print(\"Diagonal : \", diag)\n",
        "\n",
        "trace = np.matrix.trace(Y)\n",
        "print(\"Trace : \", trace)\n",
        "\n",
        "eig = np.linalg.eigvals(Y)\n",
        "print(\"Eiegenvalues : \", eig)"
      ],
      "execution_count": 36,
      "outputs": [
        {
          "output_type": "error",
          "ename": "SyntaxError",
          "evalue": "ignored",
          "traceback": [
            "\u001b[0;36m  File \u001b[0;32m\"<ipython-input-36-77f441167a9b>\"\u001b[0;36m, line \u001b[0;32m7\u001b[0m\n\u001b[0;31m    print(\"Determinant :\", det)\u001b[0m\n\u001b[0m                             ^\u001b[0m\n\u001b[0;31mSyntaxError\u001b[0m\u001b[0;31m:\u001b[0m invalid character in identifier\n"
          ]
        }
      ]
    },
    {
      "cell_type": "markdown",
      "metadata": {
        "id": "Qne3RnfOL6-4",
        "colab_type": "text"
      },
      "source": [
        "## End of Part - 1\n",
        " --- --- ---"
      ]
    },
    {
      "cell_type": "markdown",
      "metadata": {
        "id": "LA-m4UYkMPTe",
        "colab_type": "text"
      },
      "source": [
        "## Part - 2\n",
        "---\n",
        "In this part, you will be working with the library ```pandas```. Import this library with an alias name ```pd```."
      ]
    },
    {
      "cell_type": "code",
      "metadata": {
        "id": "i8z7TpnZSIms",
        "colab_type": "code",
        "colab": {}
      },
      "source": [
        "# Initial imports\n",
        "import numpy as np\n",
        "import matplotlib.pyplot as plt\n",
        "import pandas as pd"
      ],
      "execution_count": 0,
      "outputs": []
    },
    {
      "cell_type": "markdown",
      "metadata": {
        "id": "2v-HkHnyuQ3X",
        "colab_type": "text"
      },
      "source": [
        "Download dataset from: http://biostat.mc.vanderbilt.edu/wiki/pub/Main/DataSets/titanic3.csv\n",
        "Read the data and display the first 5 rows"
      ]
    },
    {
      "cell_type": "code",
      "metadata": {
        "id": "LinX5ywNTUIm",
        "colab_type": "code",
        "colab": {
          "base_uri": "https://localhost:8080/",
          "height": 130
        },
        "outputId": "fe93dca0-951d-42c1-bb60-cef4dcb83ff5"
      },
      "source": [
        "#Download dataset from: http://biostat.mc.vanderbilt.edu/wiki/pub/Main/DataSets/titanic3.csv\n",
        "\n",
        "file_url = \"http://biostat.mc.vanderbilt.edu/wiki/pub/Main/DataSets/titanic3.csv\"\n",
        "\n",
        "df = pd.read_csv(file_url)\n",
        "df.head()"
      ],
      "execution_count": 24,
      "outputs": [
        {
          "output_type": "error",
          "ename": "SyntaxError",
          "evalue": "ignored",
          "traceback": [
            "\u001b[0;36m  File \u001b[0;32m\"<ipython-input-24-675b3e6bdbde>\"\u001b[0;36m, line \u001b[0;32m4\u001b[0m\n\u001b[0;31m    df = pd.read_csv(file_url)\u001b[0m\n\u001b[0m      ^\u001b[0m\n\u001b[0;31mSyntaxError\u001b[0m\u001b[0;31m:\u001b[0m invalid character in identifier\n"
          ]
        }
      ]
    },
    {
      "cell_type": "markdown",
      "metadata": {
        "id": "vTk1-mF5WYFN",
        "colab_type": "text"
      },
      "source": [
        "### Preprocessing of the Dataset"
      ]
    },
    {
      "cell_type": "markdown",
      "metadata": {
        "id": "kx9UrI9WWt17",
        "colab_type": "text"
      },
      "source": [
        "\n",
        "\n",
        "---\n",
        "\n",
        "\n",
        "**1. Convert the categorical values of columns 'sex', 'embarked', 'pclass' into dummy values and add them into titanic_data_new DataFrame**\n",
        "\n",
        "\n",
        "\n",
        "\n",
        "---\n",
        "\n"
      ]
    },
    {
      "cell_type": "code",
      "metadata": {
        "id": "AwDh9njbZ0QU",
        "colab_type": "code",
        "colab": {}
      },
      "source": [
        "titanic_data_new = pd.get_dummies(df, columns=['sex', 'embarked', 'pclass'])\n",
        "titanic_data_new.head()"
      ],
      "execution_count": 0,
      "outputs": []
    },
    {
      "cell_type": "markdown",
      "metadata": {
        "id": "Z9bxOfzDbY-n",
        "colab_type": "text"
      },
      "source": [
        "\n",
        "\n",
        "---\n",
        "\n",
        "\n",
        "**2. Fill the missing data in Age and Fare columns with the mean value of the respected column then add these columns to titanic_data_new**\n",
        "\n",
        "\n",
        "---\n",
        "\n"
      ]
    },
    {
      "cell_type": "code",
      "metadata": {
        "id": "DNx7Pr0ehhAs",
        "colab_type": "code",
        "colab": {}
      },
      "source": [
        "titanic_data_new['age_w'] = titanic_data_new['age'].fillna(titanic_data_new['age'].mean())\n",
        "titanic_data_new['fare_w'] = titanic_data_new['fare'].fillna(titanic_data_new['fare'].mean())\n",
        "print(titanic_data_new.head())"
      ],
      "execution_count": 0,
      "outputs": []
    },
    {
      "cell_type": "markdown",
      "metadata": {
        "id": "SlRzKfhxkd1M",
        "colab_type": "text"
      },
      "source": [
        "###Normalization\n",
        "\n",
        "\n",
        "---\n",
        "\n",
        "\n",
        "\n",
        "1. Normalize the columns which have numerical data\n",
        "\n",
        "\n",
        "\n",
        "---\n",
        "\n"
      ]
    },
    {
      "cell_type": "code",
      "metadata": {
        "id": "Y3hpu92TlM38",
        "colab_type": "code",
        "colab": {
          "base_uri": "https://localhost:8080/",
          "height": 232
        },
        "outputId": "52b7fdac-32a2-4893-e644-7bb4ec2dc7eb"
      },
      "source": [
        "x = df[['age']].values.astype(float)\n",
        "min_max_scaler = preprocessing.MinMaxScaler()\n",
        "x_scaled = min_max_scaler.fit_transform(x)\n",
        "df_normalized = pd.DataFrame(x_scaled)\n",
        "\n",
        "x = df[['fare']].values.astype(float)\n",
        "min_max_scaler = preprocessing.MinMaxScaler()\n",
        "x_scaled = min_max_scaler.fit_transform(x)\n",
        "df_normalized_fare = pd.DataFrame(x_scaled)\n",
        "\n",
        "print(df_normalized)\n",
        "print(df_normalized_fare)"
      ],
      "execution_count": 37,
      "outputs": [
        {
          "output_type": "error",
          "ename": "NameError",
          "evalue": "ignored",
          "traceback": [
            "\u001b[0;31m---------------------------------------------------------------------------\u001b[0m",
            "\u001b[0;31mNameError\u001b[0m                                 Traceback (most recent call last)",
            "\u001b[0;32m<ipython-input-37-0ae48602f6d1>\u001b[0m in \u001b[0;36m<module>\u001b[0;34m()\u001b[0m\n\u001b[0;32m----> 1\u001b[0;31m \u001b[0mx\u001b[0m \u001b[0;34m=\u001b[0m \u001b[0mdf\u001b[0m\u001b[0;34m[\u001b[0m\u001b[0;34m[\u001b[0m\u001b[0;34m'age'\u001b[0m\u001b[0;34m]\u001b[0m\u001b[0;34m]\u001b[0m\u001b[0;34m.\u001b[0m\u001b[0mvalues\u001b[0m\u001b[0;34m.\u001b[0m\u001b[0mastype\u001b[0m\u001b[0;34m(\u001b[0m\u001b[0mfloat\u001b[0m\u001b[0;34m)\u001b[0m\u001b[0;34m\u001b[0m\u001b[0;34m\u001b[0m\u001b[0m\n\u001b[0m\u001b[1;32m      2\u001b[0m \u001b[0mmin_max_scaler\u001b[0m \u001b[0;34m=\u001b[0m \u001b[0mpreprocessing\u001b[0m\u001b[0;34m.\u001b[0m\u001b[0mMinMaxScaler\u001b[0m\u001b[0;34m(\u001b[0m\u001b[0;34m)\u001b[0m\u001b[0;34m\u001b[0m\u001b[0;34m\u001b[0m\u001b[0m\n\u001b[1;32m      3\u001b[0m \u001b[0mx_scaled\u001b[0m \u001b[0;34m=\u001b[0m \u001b[0mmin_max_scaler\u001b[0m\u001b[0;34m.\u001b[0m\u001b[0mfit_transform\u001b[0m\u001b[0;34m(\u001b[0m\u001b[0mx\u001b[0m\u001b[0;34m)\u001b[0m\u001b[0;34m\u001b[0m\u001b[0;34m\u001b[0m\u001b[0m\n\u001b[1;32m      4\u001b[0m \u001b[0mdf_normalized\u001b[0m \u001b[0;34m=\u001b[0m \u001b[0mpd\u001b[0m\u001b[0;34m.\u001b[0m\u001b[0mDataFrame\u001b[0m\u001b[0;34m(\u001b[0m\u001b[0mx_scaled\u001b[0m\u001b[0;34m)\u001b[0m\u001b[0;34m\u001b[0m\u001b[0;34m\u001b[0m\u001b[0m\n\u001b[1;32m      5\u001b[0m \u001b[0;34m\u001b[0m\u001b[0m\n",
            "\u001b[0;31mNameError\u001b[0m: name 'df' is not defined"
          ]
        }
      ]
    },
    {
      "cell_type": "markdown",
      "metadata": {
        "id": "wB9-5x83mFAO",
        "colab_type": "text"
      },
      "source": [
        "\n",
        "\n",
        "---\n",
        "2. Drop the original age, fare columns\n",
        "3. Append the normalized columns to the titanic_data_new DataFrame.\n",
        "\n",
        "\n",
        "\n",
        "---\n",
        "\n"
      ]
    },
    {
      "cell_type": "code",
      "metadata": {
        "id": "Kb00kM0onQJy",
        "colab_type": "code",
        "colab": {}
      },
      "source": [
        "df.drop(columns=['age', 'fare'], inplace=True)\n",
        "df.head()\n",
        "\n",
        "titanic_data_new['age_norm'] = df_normalized\n",
        "titanic_data_new['age_fare'] = df_normalized_fare"
      ],
      "execution_count": 0,
      "outputs": []
    },
    {
      "cell_type": "markdown",
      "metadata": {
        "id": "uLxN3PozntKe",
        "colab_type": "text"
      },
      "source": [
        "###Plotting\n",
        "1. plot the age against the ID(continuous)\n",
        "2. plot the fare against the ID(scatter)"
      ]
    },
    {
      "cell_type": "code",
      "metadata": {
        "id": "LdSfNEKYn_RO",
        "colab_type": "code",
        "colab": {}
      },
      "source": [
        "import matplotlib.pyplot as plt\n",
        "plt.plot(x=df['age'], y=df['id'])\n",
        "plt.xlabel('Age')\n",
        "plt.ylabel('ID')\n",
        "plt.show()\n",
        "\n",
        "plt.scatter(x=df['fare'], y=df['id'])\n",
        "plt.xlabel('Fare')\n",
        "plt.ylabel('ID')\n",
        "plt.show()"
      ],
      "execution_count": 0,
      "outputs": []
    },
    {
      "cell_type": "markdown",
      "metadata": {
        "id": "LQr7y6eevTvy",
        "colab_type": "text"
      },
      "source": [
        "## End of Part - 2\n",
        "---"
      ]
    },
    {
      "cell_type": "markdown",
      "metadata": {
        "id": "TWhZcKvfvW2B",
        "colab_type": "text"
      },
      "source": [
        "## Part - 3\n",
        "---"
      ]
    },
    {
      "cell_type": "markdown",
      "metadata": {
        "id": "8bY4H9DszQ2S",
        "colab_type": "text"
      },
      "source": [
        "In this part, you will work with the library ```matplotlib```. Import the ```pyplot``` from ```matplotlib``` with an alias name ```plt```."
      ]
    },
    {
      "cell_type": "code",
      "metadata": {
        "id": "hPN6qctRzknT",
        "colab_type": "code",
        "colab": {}
      },
      "source": [
        "import matplotlib.pyplot as plt\n",
        "import math"
      ],
      "execution_count": 0,
      "outputs": []
    },
    {
      "cell_type": "markdown",
      "metadata": {
        "id": "fQ6KX_Aezlub",
        "colab_type": "text"
      },
      "source": [
        "Plot the sine function with domain in $[-3\\pi,3\\pi]$. Label the axes appropriately. Add title $\\sin(x)$. Use latex formatting while adding the title. Set the plot size to (10,10)"
      ]
    },
    {
      "cell_type": "code",
      "metadata": {
        "id": "0tA3J5mA1cQ0",
        "colab_type": "code",
        "colab": {}
      },
      "source": [
        "x=np.arange(-3*math.pi , 3*math.pi, 0.1)\n",
        "plt.plot(X=x, Y=math.sin)\n",
        "plt.xlabel('SIN')\n",
        "plt.ylabel('Values')\n",
        "plt.show()"
      ],
      "execution_count": 0,
      "outputs": []
    },
    {
      "cell_type": "markdown",
      "metadata": {
        "id": "6KV7RqMm1d8P",
        "colab_type": "text"
      },
      "source": [
        "Plot $\\sin(x)$ and its spectrum, $\\cos(x)$ and its spectrum in a single plot, in the domain $[-2\\pi,2\\pi]$. Label the plot appropriately."
      ]
    },
    {
      "cell_type": "code",
      "metadata": {
        "id": "-OJuY0HO12Oo",
        "colab_type": "code",
        "colab": {}
      },
      "source": [
        "x=np.arange(-2*math.pi , 2*math.pi, 0.1)\n",
        "\n",
        "plt.figure(figsize=(9, 3))\n",
        "\n",
        "plt.subplot(131)\n",
        "plt.plot(x, math.sin(x))\n",
        "plt.subplot(132)\n",
        "plt.scatter(x, math.cos(x))\n",
        "plt.suptitle('Sin Cos Plotting')\n",
        "plt.show()"
      ],
      "execution_count": 0,
      "outputs": []
    },
    {
      "cell_type": "markdown",
      "metadata": {
        "id": "1S6ZRm6B18ZF",
        "colab_type": "text"
      },
      "source": [
        "## End of Part - 3\n",
        "---"
      ]
    },
    {
      "cell_type": "markdown",
      "metadata": {
        "id": "MUucpzXBl096",
        "colab_type": "text"
      },
      "source": [
        "Create a Github repository with the name ***SHALA2020*** and save this assignment there."
      ]
    }
  ]
}